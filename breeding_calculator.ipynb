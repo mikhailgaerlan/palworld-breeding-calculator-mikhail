{
 "cells": [
  {
   "cell_type": "code",
   "execution_count": 1,
   "metadata": {},
   "outputs": [],
   "source": [
    "from calculator import PalworldParentPathFinder"
   ]
  },
  {
   "cell_type": "code",
   "execution_count": 5,
   "metadata": {},
   "outputs": [
    {
     "name": "stdout",
     "output_type": "stream",
     "text": [
      "Found 1 path(s) in 11 gen(s) with score 22\n",
      "Sample path:\n",
      "[Lamball + Nitewing = Loupmoon]\n",
      "[Nitewing + Loupmoon = Univolt]\n",
      "[Nitewing + Univolt = Elphidran, Lamball + Univolt = Cawgnito, Univolt + Loupmoon = Dinossom]\n",
      "[Dinossom + Nitewing = Bushi, Elphidran + Univolt = Incineram, Elphidran + Nitewing = Wumpo Botan, Univolt + Cawgnito = Reindrix]\n",
      "[Wumpo Botan + Nitewing = Sibelyx, Lamball + Wumpo Botan = Fenglope, Nitewing + Reindrix = Vanwyrm, Elphidran + Incineram = Anubis, Dinossom + Bushi = Rayhound]\n",
      "[Fenglope + Univolt = Kitsun, Vanwyrm + Anubis = Faleris, Nitewing + Sibelyx = Mossanda]\n",
      "[Rayhound + Mossanda = Grizzbolt]\n",
      "[Faleris + Grizzbolt = Relaxaurus]\n",
      "[Relaxaurus + Grizzbolt = Orserk]\n",
      "[Grizzbolt + Orserk = Astegon]\n",
      "[Astegon + Kitsun = Shadowbeak]\n"
     ]
    }
   ],
   "source": [
    "parents = {'Lamball', 'Nitewing'}\n",
    "child = 'Shadowbeak'\n",
    "path_finder = PalworldParentPathFinder(*parents)\n",
    "paths = path_finder.find_path(child)"
   ]
  },
  {
   "cell_type": "code",
   "execution_count": 2,
   "metadata": {},
   "outputs": [
    {
     "name": "stdout",
     "output_type": "stream",
     "text": [
      "Found 3 path(s) in 14 gen(s) with score 17\n",
      "Sample path:\n",
      "[Penking + Lamball = Verdash]\n",
      "[Penking + Verdash = Tombat]\n",
      "[Penking + Tombat = Bushi]\n",
      "[Penking + Bushi = Anubis, Bushi + Verdash = Dinossom]\n",
      "[Tombat + Anubis = Vanwyrm, Dinossom + Bushi = Rayhound]\n",
      "[Vanwyrm + Anubis = Faleris, Vanwyrm + Verdash = Kitsun]\n",
      "[Faleris + Bushi = Azurobe]\n",
      "[Faleris + Azurobe = Mossanda]\n",
      "[Rayhound + Mossanda = Grizzbolt]\n",
      "[Faleris + Grizzbolt = Relaxaurus]\n",
      "[Relaxaurus + Grizzbolt = Orserk]\n",
      "[Grizzbolt + Orserk = Astegon]\n",
      "[Astegon + Kitsun = Shadowbeak]\n",
      "[Shadowbeak + Astegon = Cryolinx]\n"
     ]
    }
   ],
   "source": [
    "parents = {'Lamball', 'Penking'}\n",
    "child = 'Cryolinx'\n",
    "path_finder = PalworldParentPathFinder(*parents)\n",
    "paths = path_finder.find_path(child)"
   ]
  },
  {
   "cell_type": "code",
   "execution_count": 3,
   "metadata": {},
   "outputs": [
    {
     "name": "stdout",
     "output_type": "stream",
     "text": [
      "Found 112(s) with length 3\n",
      "Sample path:\n",
      "Lamball + Tanzee = Jolthog\n",
      "Blazamut + Jolthog = Univolt\n",
      "Blazamut + Univolt = Warsect\n"
     ]
    }
   ],
   "source": [
    "parents = {'Lamball'}\n",
    "child = 'Warsect'\n",
    "path_finder = PalworldParentPathFinder(*parents)\n",
    "paths = path_finder.find_path(child)"
   ]
  },
  {
   "cell_type": "code",
   "execution_count": 4,
   "metadata": {},
   "outputs": [
    {
     "name": "stdout",
     "output_type": "stream",
     "text": [
      "Found 6 path(s) in 5 gen(s) with score 5\n",
      "Sample path:\n",
      "[Penking + Lamball = Verdash]\n",
      "[Lamball + Verdash = Daedream]\n",
      "[Lamball + Daedream = Pengullet]\n",
      "[Pengullet + Verdash = Wixen]\n",
      "[Penking + Wixen = Digtoise]\n"
     ]
    }
   ],
   "source": [
    "parents = {'Lamball', 'Penking'}\n",
    "child = 'Digtoise'\n",
    "\n",
    "path_finder = PalworldParentPathFinder(*parents)\n",
    "paths = path_finder.find_path(child)"
   ]
  },
  {
   "cell_type": "code",
   "execution_count": null,
   "metadata": {},
   "outputs": [],
   "source": []
  }
 ],
 "metadata": {
  "kernelspec": {
   "display_name": "palworld",
   "language": "python",
   "name": "python3"
  },
  "language_info": {
   "codemirror_mode": {
    "name": "ipython",
    "version": 3
   },
   "file_extension": ".py",
   "mimetype": "text/x-python",
   "name": "python",
   "nbconvert_exporter": "python",
   "pygments_lexer": "ipython3",
   "version": "3.12.7"
  }
 },
 "nbformat": 4,
 "nbformat_minor": 2
}
