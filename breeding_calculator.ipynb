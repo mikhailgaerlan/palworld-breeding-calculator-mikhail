{
 "cells": [
  {
   "cell_type": "code",
   "execution_count": 1,
   "metadata": {},
   "outputs": [],
   "source": [
    "from calculator import PalworldParentPathFinder"
   ]
  },
  {
   "cell_type": "code",
   "execution_count": 2,
   "metadata": {},
   "outputs": [
    {
     "name": "stdout",
     "output_type": "stream",
     "text": [
      "Found 1 path(s) in 11 gen(s) with score 24\n",
      "Sample path:\n",
      "[Lamball + Nitewing = Yakumo]\n",
      "[Nitewing + Yakumo = Univolt, Lamball + Yakumo = Dazzi]\n",
      "[Univolt + Yakumo = Dinossom, Nitewing + Univolt = Sootseer, Lamball + Dazzi = Tocotoco]\n",
      "[Sootseer + Univolt = Incineram, Univolt + Dinossom = Tombat, Nitewing + Tocotoco = Reindrix, Nitewing + Sootseer = Wumpo Botan]\n",
      "[Incineram + Sootseer = Anubis, Tombat + Dinossom = Arsox, Nitewing + Reindrix = Vanwyrm, Wumpo Botan + Yakumo = Blazehowl, Nitewing + Wumpo Botan = Sibelyx]\n",
      "[Vanwyrm + Anubis = Faleris, Yakumo + Blazehowl = Kitsun, Univolt + Arsox = Rayhound, Nitewing + Sibelyx = Mossanda]\n",
      "[Rayhound + Mossanda = Grizzbolt]\n",
      "[Grizzbolt + Faleris = Relaxaurus]\n",
      "[Grizzbolt + Relaxaurus = Orserk]\n",
      "[Grizzbolt + Orserk = Astegon]\n",
      "[Astegon + Kitsun = Shadowbeak]\n"
     ]
    }
   ],
   "source": [
    "parents = {'Lamball', 'Nitewing'}\n",
    "child = 'Shadowbeak'\n",
    "path_finder = PalworldParentPathFinder(*parents)\n",
    "paths = path_finder.find_path(child)"
   ]
  },
  {
   "cell_type": "code",
   "execution_count": 3,
   "metadata": {},
   "outputs": [
    {
     "name": "stdout",
     "output_type": "stream",
     "text": [
      "Found 1 path(s) in 10 gen(s) with score 11\n",
      "Sample path:\n",
      "[Lamball + Penking = Verdash]\n",
      "[Penking + Verdash = Tombat]\n",
      "[Tombat + Penking = Bushi]\n",
      "[Bushi + Penking = Anubis]\n",
      "[Tombat + Anubis = Vanwyrm, Verdash + Anubis = Petallia]\n",
      "[Vanwyrm + Anubis = Faleris]\n",
      "[Bushi + Faleris = Azurobe]\n",
      "[Azurobe + Faleris = Mossanda]\n",
      "[Petallia + Mossanda = Lyleen]\n",
      "[Lyleen + Mossanda = Warsect]\n"
     ]
    }
   ],
   "source": [
    "parents = {'Lamball', 'Penking'}\n",
    "child = 'Warsect'\n",
    "path_finder = PalworldParentPathFinder(*parents)\n",
    "paths = path_finder.find_path(child)"
   ]
  },
  {
   "cell_type": "code",
   "execution_count": 4,
   "metadata": {},
   "outputs": [
    {
     "name": "stdout",
     "output_type": "stream",
     "text": [
      "Found 3 path(s) in 14 gen(s) with score 18\n",
      "Sample path:\n",
      "[Lamball + Penking = Verdash]\n",
      "[Penking + Verdash = Tombat]\n",
      "[Tombat + Penking = Bushi]\n",
      "[Bushi + Penking = Anubis, Bushi + Verdash = Dinossom]\n",
      "[Bushi + Dinossom = Shroomer Noct, Tombat + Anubis = Vanwyrm]\n",
      "[Tombat + Shroomer Noct = Rayhound, Verdash + Vanwyrm = Kitsun, Vanwyrm + Anubis = Faleris]\n",
      "[Bushi + Faleris = Azurobe]\n",
      "[Azurobe + Faleris = Mossanda]\n",
      "[Rayhound + Mossanda = Grizzbolt]\n",
      "[Grizzbolt + Faleris = Relaxaurus]\n",
      "[Grizzbolt + Relaxaurus = Orserk]\n",
      "[Grizzbolt + Orserk = Astegon]\n",
      "[Astegon + Kitsun = Shadowbeak]\n",
      "[Astegon + Shadowbeak = Cryolinx]\n"
     ]
    }
   ],
   "source": [
    "parents = {'Lamball', 'Penking'}\n",
    "child = 'Cryolinx'\n",
    "path_finder = PalworldParentPathFinder(*parents)\n",
    "paths = path_finder.find_path(child)"
   ]
  },
  {
   "cell_type": "code",
   "execution_count": 5,
   "metadata": {},
   "outputs": [
    {
     "name": "stdout",
     "output_type": "stream",
     "text": [
      "Found 136 path(s) with length 3\n",
      "Sample path:\n",
      "Lamball + Tanzee = Jolthog\n",
      "Jolthog + Blazamut = Univolt\n",
      "Univolt + Blazamut = Warsect\n"
     ]
    }
   ],
   "source": [
    "parents = {'Lamball'}\n",
    "child = 'Warsect'\n",
    "path_finder = PalworldParentPathFinder(*parents)\n",
    "paths = path_finder.find_path(child)"
   ]
  },
  {
   "cell_type": "code",
   "execution_count": 6,
   "metadata": {},
   "outputs": [
    {
     "name": "stdout",
     "output_type": "stream",
     "text": [
      "Found 6 path(s) in 5 gen(s) with score 5\n",
      "Sample path:\n",
      "[Lamball + Penking = Verdash]\n",
      "[Penking + Verdash = Tombat]\n",
      "[Tombat + Penking = Bushi]\n",
      "[Lamball + Bushi = Direhowl]\n",
      "[Bushi + Direhowl = Digtoise]\n"
     ]
    }
   ],
   "source": [
    "parents = {'Lamball', 'Penking'}\n",
    "child = 'Digtoise'\n",
    "\n",
    "path_finder = PalworldParentPathFinder(*parents)\n",
    "paths = path_finder.find_path(child)"
   ]
  },
  {
   "cell_type": "code",
   "execution_count": null,
   "metadata": {},
   "outputs": [],
   "source": []
  }
 ],
 "metadata": {
  "kernelspec": {
   "display_name": "palworld",
   "language": "python",
   "name": "python3"
  },
  "language_info": {
   "codemirror_mode": {
    "name": "ipython",
    "version": 3
   },
   "file_extension": ".py",
   "mimetype": "text/x-python",
   "name": "python",
   "nbconvert_exporter": "python",
   "pygments_lexer": "ipython3",
   "version": "3.12.7"
  }
 },
 "nbformat": 4,
 "nbformat_minor": 2
}
